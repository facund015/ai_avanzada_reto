{
 "cells": [
  {
   "cell_type": "markdown",
   "metadata": {
    "pycharm": {
     "name": "#%% md\n"
    }
   },
   "source": [
    "# Titanic Survival"
   ]
  },
  {
   "cell_type": "markdown",
   "metadata": {
    "pycharm": {
     "name": "#%% md\n"
    }
   },
   "source": [
    "### NOTES\n",
    "\n",
    "No todas las tablas se usaran para el modelo de ML ya que algunas columnas solo contienen valores categoricos/informativos o columnas que contienen una gran cantidad de valores NULL.\n",
    "\n",
    "Para el modelo se dropearan inicialmente las tablas de:\n",
    "* PassengerId \n",
    "* Name\n",
    "* Ticket\n",
    "* Fare\n",
    "* Cabin\n",
    "* Embarked \n",
    "\n",
    "Y se usaran inicialmente las tablas de:\n",
    "* Sex\n",
    "* Age"
   ]
  },
  {
   "cell_type": "code",
   "execution_count": 1,
   "metadata": {
    "pycharm": {
     "name": "#%%\n"
    }
   },
   "outputs": [
    {
     "ename": "ModuleNotFoundError",
     "evalue": "No module named 'pandas'",
     "output_type": "error",
     "traceback": [
      "\u001B[1;31m---------------------------------------------------------------------------\u001B[0m",
      "\u001B[1;31mModuleNotFoundError\u001B[0m                       Traceback (most recent call last)",
      "Input \u001B[1;32mIn [1]\u001B[0m, in \u001B[0;36m<cell line: 1>\u001B[1;34m()\u001B[0m\n\u001B[1;32m----> 1\u001B[0m \u001B[38;5;28;01mimport\u001B[39;00m \u001B[38;5;21;01mpandas\u001B[39;00m \u001B[38;5;28;01mas\u001B[39;00m \u001B[38;5;21;01mpd\u001B[39;00m \n\u001B[0;32m      2\u001B[0m \u001B[38;5;28;01mimport\u001B[39;00m \u001B[38;5;21;01mnumpy\u001B[39;00m \u001B[38;5;28;01mas\u001B[39;00m \u001B[38;5;21;01mnp\u001B[39;00m\n\u001B[0;32m      3\u001B[0m \u001B[38;5;28;01mimport\u001B[39;00m \u001B[38;5;21;01mseaborn\u001B[39;00m \u001B[38;5;28;01mas\u001B[39;00m \u001B[38;5;21;01msns\u001B[39;00m\n",
      "\u001B[1;31mModuleNotFoundError\u001B[0m: No module named 'pandas'"
     ]
    }
   ],
   "source": [
    "import pandas as pd \n",
    "import numpy as np\n",
    "import seaborn as sns\n",
    "import math\n",
    "\n",
    "sns.set_theme(style=\"darkgrid\")\n",
    "df = pd.read_csv(\"train.csv\")\n",
    "display(df)"
   ]
  },
  {
   "cell_type": "markdown",
   "metadata": {
    "pycharm": {
     "name": "#%% md\n"
    }
   },
   "source": [
    "## Quick Data Count"
   ]
  },
  {
   "cell_type": "code",
   "execution_count": null,
   "metadata": {
    "pycharm": {
     "name": "#%%\n"
    }
   },
   "outputs": [],
   "source": [
    "totalPassengers = len(df)\n",
    "totalM = df['Sex'].tolist().count('male')\n",
    "totalF = df['Sex'].tolist().count('female')\n",
    "print(\"Total of passengers: \", totalPassengers)\n",
    "print(\"Total of male passengers: \", totalM)\n",
    "print(\"Total of female passengers: \", totalF)\n",
    "\n",
    "sns.countplot(x='Sex', data=df, palette='rocket')\n"
   ]
  },
  {
   "cell_type": "markdown",
   "metadata": {
    "pycharm": {
     "name": "#%% md\n"
    }
   },
   "source": [
    "## Survivors"
   ]
  },
  {
   "cell_type": "code",
   "execution_count": null,
   "metadata": {
    "pycharm": {
     "name": "#%%\n"
    }
   },
   "outputs": [],
   "source": [
    "totalM1 = len(df[(df['Sex'] == 'male') & (df['Survived'] == 1)])\n",
    "totalF1 = len(df[(df['Sex'] == 'female') & (df['Survived'] == 1)])\n",
    "totalM0 = len(df[(df['Sex'] == 'male') & (df['Survived'] == 0)])\n",
    "totalF0 = len(df[(df['Sex'] == 'female') & (df['Survived'] == 0)])\n",
    "print(\"Total survivors: \", totalM1 + totalF1)\n",
    "print(\"Total of male survivors: \", totalM1)\n",
    "print(\"Total of female survivors: \", totalF1)\n",
    "print(\"Total of male non survivors: \", totalM0)\n",
    "print(\"Total of female non survivors: \", totalF0)\n",
    "\n",
    "sns.countplot(x='Survived', data=df, hue='Sex', palette='rocket')"
   ]
  },
  {
   "cell_type": "markdown",
   "metadata": {
    "pycharm": {
     "name": "#%% md\n"
    }
   },
   "source": [
    "## Checking for blank values"
   ]
  },
  {
   "cell_type": "code",
   "execution_count": null,
   "metadata": {
    "pycharm": {
     "name": "#%%\n"
    }
   },
   "outputs": [],
   "source": [
    "df.isna().sum()"
   ]
  },
  {
   "cell_type": "code",
   "execution_count": null,
   "metadata": {
    "pycharm": {
     "name": "#%%\n"
    }
   },
   "outputs": [],
   "source": [
    "maleBlanks1 = len(df[(df['Sex'] == 'male') & (df['Survived'] == 1) & (df.Age.isnull())])\n",
    "femaleBlanks1 = len(df[(df['Sex'] == 'female') & (df['Survived'] == 1) & (df.Age.isnull())])\n",
    "maleBlanks0 = len(df[(df['Sex'] == 'male') & (df['Survived'] == 0) & (df.Age.isnull())])\n",
    "femaleBlanks0 = len(df[(df['Sex'] == 'female') & (df['Survived'] == 0) & (df.Age.isnull())])\n",
    "\n",
    "print(\"Male survivors age blanks: \", maleBlanks1)\n",
    "print(\"Female survivors age blanks: \", femaleBlanks1)\n",
    "print(\"Male non survivors age blanks: \", maleBlanks0)\n",
    "print(\"Female non survivors age blanks: \", femaleBlanks0)"
   ]
  },
  {
   "cell_type": "code",
   "execution_count": null,
   "metadata": {
    "pycharm": {
     "name": "#%%\n"
    }
   },
   "outputs": [],
   "source": [
    "pd.DataFrame(data = [df.isna().sum() / df.shape[0] * 100], index = [\"Blanks %\"])"
   ]
  },
  {
   "cell_type": "markdown",
   "metadata": {
    "pycharm": {
     "name": "#%% md\n"
    }
   },
   "source": [
    "## Survivors per age"
   ]
  },
  {
   "cell_type": "code",
   "execution_count": null,
   "metadata": {
    "pycharm": {
     "name": "#%%\n"
    }
   },
   "outputs": [],
   "source": [
    "totalMSKid = len(df[(df['Sex'] == 'male') & (df['Survived'] == 1) & (df['Age'] <= 10)])\n",
    "totalMSTeen = len(df[(df['Sex'] == 'male') & (df['Survived'] == 1) & (df['Age'] > 10 ) & (df['Age'] <= 20 )])\n",
    "totalMSAdult = len(df[(df['Sex'] == 'male') & (df['Survived'] == 1) & (df['Age'] > 20)])\n",
    "print(\"Total of kid male survivors: \", totalMSKid)\n",
    "print(\"Total of teen male survivors: \", totalMSTeen)\n",
    "print(\"Total of adult male survivors: \", totalMSAdult)\n",
    "print(totalMSKid+totalMSTeen+totalMSAdult)\n",
    "print()\n",
    "\n",
    "totalFSKid = len(df[(df['Sex'] == 'female') & (df['Survived'] == 1) & (df['Age'] <= 10)])\n",
    "totalFSTeen = len(df[(df['Sex'] == 'female') & (df['Survived'] == 1) & (df['Age'] > 10 ) & (df['Age'] <= 20)])\n",
    "totalFSAdult = len(df[(df['Sex'] == 'female') & (df['Survived'] == 1) & (df['Age'] > 20)])\n",
    "print(\"Total of kid female survivors: \", totalFSKid)\n",
    "print(\"Total of teen female survivors: \", totalFSTeen)\n",
    "print(\"Total of adult female survivors: \", totalFSAdult)\n",
    "print(totalFSKid+totalFSTeen+totalFSAdult)\n",
    "\n",
    "#display(df.groupby(\"Age\")[\"Survived\"].mean())"
   ]
  },
  {
   "cell_type": "code",
   "execution_count": null,
   "metadata": {
    "pycharm": {
     "name": "#%%\n"
    }
   },
   "outputs": [],
   "source": [
    "theta = [0, 1]\n",
    "h = lambda x, theta: 1/(1 + math.exp(-(theta[0] + theta[1] * x)))\n",
    "j_i = lambda x ,y, theta: y * math.log(h(x, theta)) + (1 - y) * math.log(1 - h(x, theta))\n",
    "\n"
   ]
  },
  {
   "cell_type": "code",
   "execution_count": null,
   "metadata": {
    "pycharm": {
     "name": "#%%\n"
    }
   },
   "outputs": [],
   "source": [
    "# Male\n",
    "male = df[(df['Sex'] == 'male')]\n",
    "print(male)\n",
    "x = male['Age']\n",
    "y = male['Survived']\n",
    "\n",
    "sns.regplot(x=x, y=y, data=male, logistic=True, ci=None)"
   ]
  }
 ],
 "metadata": {
  "kernelspec": {
   "display_name": "Python 3.9.9 64-bit",
   "language": "python",
   "name": "python3"
  },
  "language_info": {
   "codemirror_mode": {
    "name": "ipython",
    "version": 3
   },
   "file_extension": ".py",
   "mimetype": "text/x-python",
   "name": "python",
   "nbconvert_exporter": "python",
   "pygments_lexer": "ipython3",
   "version": "3.9.9"
  },
  "orig_nbformat": 4,
  "vscode": {
   "interpreter": {
    "hash": "d5c53819254f5134ae0d57518e7457f435c9aa64aaa2566b3978989478f2f856"
   }
  }
 },
 "nbformat": 4,
 "nbformat_minor": 2
}