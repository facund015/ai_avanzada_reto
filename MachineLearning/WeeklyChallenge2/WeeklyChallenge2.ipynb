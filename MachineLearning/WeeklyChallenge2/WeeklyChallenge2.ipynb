{
 "cells": [
  {
   "cell_type": "markdown",
   "metadata": {},
   "source": [
    "# Weekly Challenge 2\n",
    "### Facundo Vecchi A01283666\n"
   ]
  },
  {
   "cell_type": "code",
   "execution_count": 2,
   "metadata": {},
   "outputs": [],
   "source": [
    "import numpy as np\n",
    "import pandas as pd\n",
    "import math as m\n",
    "import metricas as mt"
   ]
  },
  {
   "cell_type": "code",
   "execution_count": 3,
   "metadata": {},
   "outputs": [
    {
     "name": "stdout",
     "output_type": "stream",
     "text": [
      "[1, 2, 3]\n",
      "3\n"
     ]
    }
   ],
   "source": [
    "cols = [\"Class\", \"Alcohol\" , \"Malic acid\", \"Ash\", \"Alcalinity of ash\", \"Magnesium\", \"Total phenols\", \"Flavanoids\", \"Nonflavanoid phenols\", \"Proanthocyanins\", \"Color intensity\", \"Hue\", \"OD280/OD315 of diluted wines\", \"Proline\"]\n",
    "df_wine = pd.read_csv(\"wine.data\", header=None, names=cols)\n",
    "wine_classes = df_wine[\"Class\"].unique().tolist()\n",
    "wine_class_count = len(wine_classes)\n",
    "df_wine.head()\n",
    "print(wine_classes)\n",
    "print(wine_class_count)"
   ]
  },
  {
   "cell_type": "markdown",
   "metadata": {},
   "source": [
    "## Regresion Logistica Multinomial?\n",
    "\n",
    "##### Generar una serie de datos aleatorios"
   ]
  },
  {
   "cell_type": "code",
   "execution_count": 4,
   "metadata": {},
   "outputs": [
    {
     "name": "stdout",
     "output_type": "stream",
     "text": [
      "142\n",
      "36\n"
     ]
    }
   ],
   "source": [
    "df = df_wine.loc[:, [\"Alcohol\", \"Class\"]]\n",
    "df.columns = [\"x\", \"y\"]\n",
    "\n",
    "\n",
    "dfs_train = pd.DataFrame()\n",
    "dfs_validate = pd.DataFrame()\n",
    "n_trains = 0\n",
    "n_validates = 0\n",
    "\n",
    "\n",
    "dfs_train = df.sample(frac=0.8, random_state=1).reset_index(drop=True)\n",
    "temp = df.drop(dfs_train.index)\n",
    "dfs_validate = pd.concat([dfs_validate, temp])\n",
    "del(temp)\n",
    "    \n",
    "    # n_validates.append(dfs_validate[-1].shape[0])\n",
    "n_trains = dfs_train.shape[0]\n",
    "n_validates = dfs_validate.shape[0]\n",
    "\n",
    "print(n_trains)\n",
    "print(n_validates)\n",
    "\n",
    "# df_alcohol_train = df_alcohol.head(df_alcohol.shape[0]//4*3)\n",
    "# df_alcohol_check = df_alcohol.merge(df_alcohol_train.drop_duplicates(), on=['x','y'], how='left', indicator=True)\n",
    "# df_alcohol_validate = df_alcohol_check[df_alcohol_check['_merge'] == 'left_only']\n",
    "# n_train = df_alcohol_train.shape[0]\n",
    "# n_validate = df_alcohol_validate.shape[0]\n",
    "\n",
    "# print(df_alcohol.shape)\n",
    "# print(df_alcohol_train.shape)\n",
    "# print(df_alcohol_validate.shape)\n",
    "# print()\n",
    "\n",
    "\n"
   ]
  },
  {
   "cell_type": "markdown",
   "metadata": {},
   "source": [
    "##### Entrenando el modelo"
   ]
  },
  {
   "cell_type": "code",
   "execution_count": 5,
   "metadata": {},
   "outputs": [
    {
     "name": "stdout",
     "output_type": "stream",
     "text": [
      "[[-0.07173335 -0.03022886]\n",
      " [ 0.25949834 -0.05861913]\n",
      " [ 0.06082894 -0.09337094]]\n"
     ]
    }
   ],
   "source": [
    "alpha = 0.0001\n",
    "iters = 1000\n",
    "thetas = np.full((3,2), 0.1)\n",
    "h = lambda x, theta: 1/(1+m.exp(-(theta[0]+theta[1]*x)))\n",
    "\n",
    "for k in range(wine_class_count):\n",
    "    for idx in range(iters):\n",
    "        acumDelta = [[]]*wine_class_count\n",
    "        acumDeltaX = [[]]*wine_class_count\n",
    "        for x_i, y_i in zip(dfs_train.x, dfs_train.y):\n",
    "                if y_i != (k+1):\n",
    "                    # print(k+1, y_i, 'replaced')\n",
    "                    y_i = 0\n",
    "                else:\n",
    "                    # print(k+1, y_i)\n",
    "                    y_i = 1\n",
    "\n",
    "                acumDelta[k].append(h(x_i, thetas[k]) - y_i)\n",
    "                acumDeltaX[k].append((h(x_i, thetas[k]) - y_i)*x_i)\n",
    "                    \n",
    "                sJt0 = sum(acumDelta[k])\n",
    "                sJt1 = sum(acumDeltaX[k])\n",
    "                \n",
    "                thetas[k][0] = thetas[k][0] - alpha/n_trains*sJt0\n",
    "                thetas[k][1] = thetas[k][1] - alpha/n_trains*sJt1\n",
    "        \n",
    "print(thetas)"
   ]
  },
  {
   "cell_type": "markdown",
   "metadata": {},
   "source": [
    "##### Funciones de prediccion"
   ]
  },
  {
   "cell_type": "code",
   "execution_count": 10,
   "metadata": {},
   "outputs": [
    {
     "ename": "SyntaxError",
     "evalue": "invalid syntax (Temp/ipykernel_27500/1348654964.py, line 9)",
     "output_type": "error",
     "traceback": [
      "\u001b[1;36m  File \u001b[1;32m\"C:\\Users\\facun\\AppData\\Local\\Temp/ipykernel_27500/1348654964.py\"\u001b[1;36m, line \u001b[1;32m9\u001b[0m\n\u001b[1;33m    for\u001b[0m\n\u001b[1;37m        ^\u001b[0m\n\u001b[1;31mSyntaxError\u001b[0m\u001b[1;31m:\u001b[0m invalid syntax\n"
     ]
    }
   ],
   "source": [
    "def predict_all_classes(x, thetas):\n",
    "    p = []\n",
    "    for k in range(wine_class_count):\n",
    "        p.append(h(x, thetas[k]))\n",
    "    return p.index(max(p))+1\n",
    "\n",
    "\n",
    "def predict_single_class(x, k, thetas):\n",
    "    return h(x, thetas[k])\n",
    "    \n",
    "\n",
    "# NADA K VER NO FUNCIONA"
   ]
  },
  {
   "cell_type": "markdown",
   "metadata": {},
   "source": [
    "##### Validacion General"
   ]
  },
  {
   "cell_type": "code",
   "execution_count": 11,
   "metadata": {},
   "outputs": [
    {
     "ename": "NameError",
     "evalue": "name 'predict_all_classes' is not defined",
     "output_type": "error",
     "traceback": [
      "\u001b[1;31m---------------------------------------------------------------------------\u001b[0m",
      "\u001b[1;31mNameError\u001b[0m                                 Traceback (most recent call last)",
      "\u001b[1;32m~\\AppData\\Local\\Temp/ipykernel_27500/2270010149.py\u001b[0m in \u001b[0;36m<module>\u001b[1;34m\u001b[0m\n\u001b[0;32m      1\u001b[0m \u001b[0mpredicts\u001b[0m \u001b[1;33m=\u001b[0m \u001b[1;33m[\u001b[0m\u001b[1;33m]\u001b[0m\u001b[1;33m\u001b[0m\u001b[1;33m\u001b[0m\u001b[0m\n\u001b[0;32m      2\u001b[0m \u001b[1;32mfor\u001b[0m \u001b[0mvalue\u001b[0m \u001b[1;32min\u001b[0m \u001b[0mdf\u001b[0m\u001b[1;33m.\u001b[0m\u001b[0mx\u001b[0m\u001b[1;33m:\u001b[0m\u001b[1;33m\u001b[0m\u001b[1;33m\u001b[0m\u001b[0m\n\u001b[1;32m----> 3\u001b[1;33m     \u001b[0mpredicts\u001b[0m\u001b[1;33m.\u001b[0m\u001b[0mappend\u001b[0m\u001b[1;33m(\u001b[0m\u001b[0mpredict_all_classes\u001b[0m\u001b[1;33m(\u001b[0m\u001b[0mvalue\u001b[0m\u001b[1;33m,\u001b[0m \u001b[0mthetas\u001b[0m\u001b[1;33m)\u001b[0m\u001b[1;33m)\u001b[0m\u001b[1;33m\u001b[0m\u001b[1;33m\u001b[0m\u001b[0m\n\u001b[0m\u001b[0;32m      4\u001b[0m \u001b[1;33m\u001b[0m\u001b[0m\n\u001b[0;32m      5\u001b[0m \u001b[0macc\u001b[0m\u001b[1;33m,\u001b[0m \u001b[0mhits\u001b[0m\u001b[1;33m,\u001b[0m \u001b[0mmisses\u001b[0m \u001b[1;33m=\u001b[0m \u001b[0mmt\u001b[0m\u001b[1;33m.\u001b[0m\u001b[0maccuracy_simple\u001b[0m\u001b[1;33m(\u001b[0m\u001b[0mpredicts\u001b[0m\u001b[1;33m,\u001b[0m \u001b[0mdf\u001b[0m\u001b[1;33m[\u001b[0m\u001b[1;34m\"y\"\u001b[0m\u001b[1;33m]\u001b[0m\u001b[1;33m)\u001b[0m\u001b[1;33m\u001b[0m\u001b[1;33m\u001b[0m\u001b[0m\n",
      "\u001b[1;31mNameError\u001b[0m: name 'predict_all_classes' is not defined"
     ]
    }
   ],
   "source": [
    "\n",
    "predicts = []\n",
    "for value in df.x:\n",
    "    predicts.append(predict_all_classes(value, thetas))\n",
    "\n",
    "acc, hits, misses = mt.accuracy_simple(predicts, df[\"y\"])\n",
    "print('Accuracy:', acc, '%')\n",
    "print('Hits:', hits)\n",
    "print('Misses:', misses)\n",
    "# pre = metricas.precision(predicts, df[\"y\"])\n",
    "# rec = metricas.recall(predicts, df[\"y\"])\n",
    "# f1 = metricas.f_one(predicts, df[\"y\"])\n",
    "# print(acc, pre, rec, f1)\n"
   ]
  },
  {
   "cell_type": "markdown",
   "metadata": {},
   "source": [
    "##### Validacion Individual"
   ]
  },
  {
   "cell_type": "markdown",
   "metadata": {},
   "source": []
  }
 ],
 "metadata": {
  "kernelspec": {
   "display_name": "Python 3.9.13 64-bit",
   "language": "python",
   "name": "python3"
  },
  "language_info": {
   "codemirror_mode": {
    "name": "ipython",
    "version": 3
   },
   "file_extension": ".py",
   "mimetype": "text/x-python",
   "name": "python",
   "nbconvert_exporter": "python",
   "pygments_lexer": "ipython3",
   "version": "3.9.9"
  },
  "orig_nbformat": 4,
  "vscode": {
   "interpreter": {
    "hash": "1e16b1acced1288afb7e487bfb309fa893c1b29970be77725f1dc83387361211"
   }
  }
 },
 "nbformat": 4,
 "nbformat_minor": 2
}
