{
 "cells": [
  {
   "cell_type": "markdown",
   "metadata": {
    "pycharm": {
     "name": "#%% md\n"
    }
   },
   "source": [
    "# Momento de Retroalimentación: Módulo 2\n",
    "### Facundo Vecchi A01283666\n",
    "### Ricardo Arriaga A01570553\n"
   ]
  },
  {
   "cell_type": "code",
   "execution_count": 84,
   "metadata": {
    "pycharm": {
     "name": "#%%\n"
    }
   },
   "outputs": [],
   "source": [
    "import numpy as np\n",
    "import pandas as pd\n",
    "import math as m\n",
    "import metricas as mt\n",
    "from sklearn.model_selection import train_test_split"
   ]
  },
  {
   "cell_type": "code",
   "execution_count": 85,
   "metadata": {
    "pycharm": {
     "name": "#%%\n"
    }
   },
   "outputs": [],
   "source": [
    "cols = [\"Class\", \"Alcohol\" , \"Malic acid\", \"Ash\", \"Alcalinity of ash\", \"Magnesium\", \"Total phenols\", \"Flavanoids\", \"Nonflavanoid phenols\", \"Proanthocyanins\", \"Color intensity\", \"Hue\", \"OD280/OD315 of diluted wines\", \"Proline\"]\n",
    "df = pd.read_csv(\"wine.data\", header=None, names=cols)\n",
    "wine_classes = df[\"Class\"].unique().tolist()\n",
    "n_wine_class = len(wine_classes)"
   ]
  },
  {
   "cell_type": "markdown",
   "metadata": {
    "pycharm": {
     "name": "#%% md\n"
    }
   },
   "source": [
    "## Regresion Logistica Multinomial?\n",
    "\n",
    "##### Generar una serie de datos aleatorios"
   ]
  },
  {
   "cell_type": "code",
   "execution_count": 86,
   "metadata": {
    "pycharm": {
     "name": "#%%\n"
    }
   },
   "outputs": [],
   "source": [
    "\n",
    "X = df.drop(columns = [\"Class\"], axis = 1)\n",
    "X.columns = [\"x\", \"x1\", \"x2\", \"x3\", \"x4\", \"x5\", \"x6\", \"x7\", \"x8\", \"x9\", \"x10\", \"x11\", \"x12\"]\n",
    "y = df.Class.values\n",
    "\n",
    "X_train, X_test, y_train, y_test = train_test_split(X, y)\n",
    "\n",
    "\n"
   ]
  },
  {
   "cell_type": "markdown",
   "metadata": {
    "pycharm": {
     "name": "#%% md\n"
    }
   },
   "source": [
    "##### Entrenando el modelo"
   ]
  },
  {
   "cell_type": "code",
   "execution_count": 121,
   "metadata": {
    "pycharm": {
     "name": "#%%\n"
    }
   },
   "outputs": [
    {
     "name": "stdout",
     "output_type": "stream",
     "text": [
      "[[0.0001 0.0001 0.0001 0.0001 0.0001 0.0001 0.0001 0.0001 0.0001 0.0001\n",
      "  0.0001 0.0001 0.0001 0.0001]\n",
      " [0.0001 0.0001 0.0001 0.0001 0.0001 0.0001 0.0001 0.0001 0.0001 0.0001\n",
      "  0.0001 0.0001 0.0001 0.0001]\n",
      " [0.0001 0.0001 0.0001 0.0001 0.0001 0.0001 0.0001 0.0001 0.0001 0.0001\n",
      "  0.0001 0.0001 0.0001 0.0001]]\n"
     ]
    },
    {
     "data": {
      "text/plain": "array([[-4.54430013e-05, -1.57179857e-03, -3.52228162e-04,\n        -2.09508690e-04, -3.35586280e-03, -1.19803542e-02,\n        -5.92581298e-05,  9.29867426e-05,  2.55010518e-05,\n        -3.74422193e-05, -4.96775583e-04, -8.37210267e-06,\n        -1.05124265e-04,  1.41983026e-03],\n       [ 1.82222739e-04,  9.33800356e-04,  8.82838193e-05,\n         2.45150583e-04,  1.74468010e-03,  6.44741574e-03,\n         2.98304796e-04,  3.39510542e-04,  1.29365090e-04,\n         2.74685405e-04, -1.95701919e-04,  2.25445959e-04,\n         4.00360732e-04, -1.99074386e-03],\n       [ 1.05448934e-04,  2.53139158e-04,  4.05063734e-04,\n         1.38988454e-04,  6.29283190e-04,  1.02880216e-03,\n        -3.45322375e-05, -1.95078325e-04,  1.20143519e-04,\n        -7.79735623e-06,  8.05588007e-04,  3.25702137e-05,\n        -1.20736120e-04, -1.58350832e-03]])"
     },
     "execution_count": 121,
     "metadata": {},
     "output_type": "execute_result"
    }
   ],
   "source": [
    "alpha = 0.00001\n",
    "iters = 100\n",
    "thetas = np.full((n_wine_class, 14), 0.0001)\n",
    "h = lambda x, theta, x1, x2, x3, x4, x5, x6, x7, x8, x9, x10, x11, x12: 1/(1+m.exp(-(theta[0] + theta[1]*x + theta[2]*x1 + theta[3]*x2 + theta[4]*x3 + theta[5]*x4 + theta[6]*x5 + theta[7]*x6 + theta[8]*x7 + theta[9]*x8 + theta[10]*x9 + theta[11]*x10 + theta[12]*x11 + theta[13]*x12)))\n",
    "\n",
    "n_train = len(y_train)\n",
    "\n",
    "\n",
    "for k in range(n_wine_class):\n",
    "    for idx in range(iters):\n",
    "        acumDelta = { \"x_\" : [], \"x\" : [],\n",
    "                     \"x1\" : [], \"x2\" : [],\n",
    "                     \"x3\" : [], \"x4\" : [],\n",
    "                     \"x5\" : [], \"x6\" : [],\n",
    "                     \"x7\" : [], \"x8\" : [],\n",
    "                     \"x9\" : [], \"x10\" : [],\n",
    "                     \"x11\" : [],\"x12\" : [] }\n",
    "        for (i_row, X), y in zip(X_train.iterrows(), y_train):\n",
    "            if y != (k+1):\n",
    "                # print(k+1, y, 'replaced')\n",
    "                y = 0\n",
    "            else:\n",
    "                # print(k+1, y)\n",
    "                y = 1\n",
    "                \n",
    "            acumDelta['x_'].append(h(X.x, thetas[k], X.x1, X.x2, X.x3, X.x4, X.x5, X.x6, X.x7, X.x8, X.x9, X.x10, X.x11, X.x12) - y)\n",
    "            acumDelta['x'].append((h(X.x, thetas[k], X.x1, X.x2, X.x3, X.x4, X.x5, X.x6, X.x7, X.x8, X.x9, X.x10, X.x11, X.x12) - y) * X.x)\n",
    "            acumDelta['x1'].append((h(X.x, thetas[k], X.x1, X.x2, X.x3, X.x4, X.x5, X.x6, X.x7, X.x8, X.x9, X.x10, X.x11, X.x12) - y) * X.x1)\n",
    "            acumDelta['x2'].append((h(X.x, thetas[k], X.x1, X.x2, X.x3, X.x4, X.x5, X.x6, X.x7, X.x8, X.x9, X.x10, X.x11, X.x12) - y) * X.x2)\n",
    "            acumDelta['x3'].append((h(X.x, thetas[k], X.x1, X.x2, X.x3, X.x4, X.x5, X.x6, X.x7, X.x8, X.x9, X.x10, X.x11, X.x12) - y) * X.x3)\n",
    "            acumDelta['x4'].append((h(X.x, thetas[k], X.x1, X.x2, X.x3, X.x4, X.x5, X.x6, X.x7, X.x8, X.x9, X.x10, X.x11, X.x12) - y) * X.x4)\n",
    "            acumDelta['x5'].append((h(X.x, thetas[k], X.x1, X.x2, X.x3, X.x4, X.x5, X.x6, X.x7, X.x8, X.x9, X.x10, X.x11, X.x12) - y) * X.x5)\n",
    "            acumDelta['x6'].append((h(X.x, thetas[k], X.x1, X.x2, X.x3, X.x4, X.x5, X.x6, X.x7, X.x8, X.x9, X.x10, X.x11, X.x12) - y) * X.x6)\n",
    "            acumDelta['x7'].append((h(X.x, thetas[k], X.x1, X.x2, X.x3, X.x4, X.x5, X.x6, X.x7, X.x8, X.x9, X.x10, X.x11, X.x12) - y) * X.x7)\n",
    "            acumDelta['x8'].append((h(X.x, thetas[k], X.x1, X.x2, X.x3, X.x4, X.x5, X.x6, X.x7, X.x8, X.x9, X.x10, X.x11, X.x12) - y) * X.x8)\n",
    "            acumDelta['x9'].append((h(X.x, thetas[k], X.x1, X.x2, X.x3, X.x4, X.x5, X.x6, X.x7, X.x8, X.x9, X.x10, X.x11, X.x12) - y) * X.x9)\n",
    "            acumDelta['x10'].append((h(X.x, thetas[k], X.x1, X.x2, X.x3, X.x4, X.x5, X.x6, X.x7, X.x8, X.x9, X.x10, X.x11, X.x12) - y) * X.x10)\n",
    "            acumDelta['x11'].append((h(X.x, thetas[k], X.x1, X.x2, X.x3, X.x4, X.x5, X.x6, X.x7, X.x8, X.x9, X.x10, X.x11, X.x12) - y) * X.x11)\n",
    "            acumDelta['x12'].append((h(X.x, thetas[k], X.x1, X.x2, X.x3, X.x4, X.x5, X.x6, X.x7, X.x8, X.x9, X.x10, X.x11, X.x12) - y) * X.x12)\n",
    "\n",
    "        sJt_ = sum(acumDelta['x_'])\n",
    "        sJt0 = sum(acumDelta['x'])\n",
    "        sJt1 = sum(acumDelta['x1'])\n",
    "        sJt2 = sum(acumDelta['x2'])\n",
    "        sJt3 = sum(acumDelta['x3'])\n",
    "        sJt4 = sum(acumDelta['x4'])\n",
    "        sJt5 = sum(acumDelta['x5'])\n",
    "        sJt6 = sum(acumDelta['x6'])\n",
    "        sJt7 = sum(acumDelta['x7'])\n",
    "        sJt8 = sum(acumDelta['x8'])\n",
    "        sJt9 = sum(acumDelta['x9'])\n",
    "        sJt10 = sum(acumDelta['x10'])\n",
    "        sJt11 = sum(acumDelta['x11'])\n",
    "        sJt12 = sum(acumDelta['x12'])\n",
    "\n",
    "        thetas[k][0] = thetas[k][0] - alpha/n_train*sJt_\n",
    "        thetas[k][1] = thetas[k][1] - alpha/n_train*sJt0\n",
    "        thetas[k][2] = thetas[k][2] - alpha/n_train*sJt1\n",
    "        thetas[k][3] = thetas[k][3] - alpha/n_train*sJt2\n",
    "        thetas[k][4] = thetas[k][4] - alpha/n_train*sJt3\n",
    "        thetas[k][5] = thetas[k][5] - alpha/n_train*sJt4\n",
    "        thetas[k][6] = thetas[k][6] - alpha/n_train*sJt5\n",
    "        thetas[k][7] = thetas[k][7] - alpha/n_train*sJt6\n",
    "        thetas[k][8] = thetas[k][8] - alpha/n_train*sJt7\n",
    "        thetas[k][9] = thetas[k][9] - alpha/n_train*sJt8\n",
    "        thetas[k][10] = thetas[k][10] - alpha/n_train*sJt9\n",
    "        thetas[k][11] = thetas[k][11] - alpha/n_train*sJt10\n",
    "        thetas[k][12] = thetas[k][12] - alpha/n_train*sJt11\n",
    "        thetas[k][13] = thetas[k][13] - alpha/n_train*sJt12\n",
    "\n",
    "\n",
    "thetas\n",
    "\n",
    "        # for X, y in zip(X_train, y_train):\n",
    "        #         print(X, y)\n",
    "                # if y_i != (k+1):\n",
    "                #     # print(k+1, y_i, 'replaced')\n",
    "                #     y_i = 0\n",
    "                # else:\n",
    "                #     # print(k+1, y_i)\n",
    "                #     y_i = 1\n",
    "\n",
    "                # acumDelta[k].append(h(x_i, thetas[k]) - y_i)\n",
    "                # acumDeltaX[k].append((h(x_i, thetas[k]) - y_i)*x_i)\n",
    "                #\n",
    "                # sJt0 = sum(acumDelta[k])\n",
    "                # sJt1 = sum(acumDeltaX[k])\n",
    "                #\n",
    "                # thetas[k][0] = thetas[k][0] - alpha/n_trains*sJt0\n",
    "                # thetas[k][1] = thetas[k][1] - alpha/n_trains*sJt1\n",
    "\n",
    "# print(thetas)"
   ]
  },
  {
   "cell_type": "markdown",
   "metadata": {
    "pycharm": {
     "name": "#%% md\n"
    }
   },
   "source": [
    "##### Funciones de prediccion"
   ]
  },
  {
   "cell_type": "code",
   "execution_count": 119,
   "metadata": {
    "pycharm": {
     "name": "#%%\n"
    }
   },
   "outputs": [
    {
     "data": {
      "text/plain": "1"
     },
     "execution_count": 119,
     "metadata": {},
     "output_type": "execute_result"
    }
   ],
   "source": [
    "def predict_all_classes(X_, thetas):\n",
    "    p = []\n",
    "    for k in range(n_wine_class):\n",
    "        p.append(h(X_.x, thetas[k], X_.x1, X_.x2, X_.x3, X_.x4, X_.x5, X_.x6, X_.x7, X_.x8, X_.x9, X_.x10, X_.x11, X_.x12))\n",
    "    return p.index(max(p))+1\n",
    "\n",
    "\n",
    "def predict_single_class(x, k, thetas):\n",
    "    return h(x, thetas[k])\n",
    "    \n",
    "predict_all_classes(X_train.iloc[0], thetas)\n",
    "# NADA K VER NO FUNCIONA"
   ]
  },
  {
   "cell_type": "markdown",
   "metadata": {
    "pycharm": {
     "name": "#%% md\n"
    }
   },
   "source": [
    "##### Validacion General"
   ]
  },
  {
   "cell_type": "code",
   "execution_count": 126,
   "metadata": {
    "pycharm": {
     "name": "#%%\n"
    }
   },
   "outputs": [
    {
     "name": "stdout",
     "output_type": "stream",
     "text": [
      "[1, 1, 1, 1, 1, 1, 1, 1, 2, 2, 1, 1, 1, 1, 2, 2, 2, 1, 1, 2, 2, 1, 1, 1, 1, 1, 1, 2, 1, 1, 1, 1, 1, 1, 2, 1, 1, 2, 2, 1, 2, 2, 2, 1, 1]\n",
      "Accuracy: 68.88888888888889 %\n",
      "Hits: 31\n",
      "Misses: 14\n"
     ]
    }
   ],
   "source": [
    "\n",
    "predicts = []\n",
    "for idx, value in X_test.iterrows():\n",
    "    predicts.append(predict_all_classes(value, thetas))\n",
    "\n",
    "print(predicts)\n",
    "acc, hits, misses = mt.accuracy_simple(predicts, df[\"Class\"])\n",
    "print('Accuracy:', acc, '%')\n",
    "print('Hits:', hits)\n",
    "print('Misses:', misses)\n",
    "# pre = metricas.precision(predicts, df[\"y\"])\n",
    "# rec = metricas.recall(predicts, df[\"y\"])\n",
    "# f1 = metricas.f_one(predicts, df[\"y\"])\n",
    "# print(acc, pre, rec, f1)\n"
   ]
  },
  {
   "cell_type": "markdown",
   "metadata": {
    "pycharm": {
     "name": "#%% md\n"
    }
   },
   "source": [
    "##### Validacion Individual"
   ]
  },
  {
   "cell_type": "markdown",
   "metadata": {
    "pycharm": {
     "name": "#%% md\n"
    }
   },
   "source": []
  }
 ],
 "metadata": {
  "kernelspec": {
   "display_name": "Python 3.9.13 64-bit",
   "language": "python",
   "name": "python3"
  },
  "language_info": {
   "codemirror_mode": {
    "name": "ipython",
    "version": 3
   },
   "file_extension": ".py",
   "mimetype": "text/x-python",
   "name": "python",
   "nbconvert_exporter": "python",
   "pygments_lexer": "ipython3",
   "version": "3.9.9"
  },
  "orig_nbformat": 4,
  "vscode": {
   "interpreter": {
    "hash": "1e16b1acced1288afb7e487bfb309fa893c1b29970be77725f1dc83387361211"
   }
  }
 },
 "nbformat": 4,
 "nbformat_minor": 2
}